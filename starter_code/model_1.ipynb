{
 "cells": [
  {
   "cell_type": "code",
   "execution_count": null,
   "metadata": {},
   "outputs": [],
   "source": [
    "# Update sklearn to prevent version mismatches\n",
    "!pip install sklearn --upgrade"
   ]
  },
  {
   "cell_type": "code",
   "execution_count": null,
   "metadata": {},
   "outputs": [],
   "source": [
    "# install joblib. This will be used to save your model. \n",
    "# Restart your kernel after installing \n",
    "!pip install joblib"
   ]
  },
  {
   "cell_type": "code",
   "execution_count": 82,
   "metadata": {},
   "outputs": [],
   "source": [
    "import pandas as pd\n",
    "import matplotlib.pyplot as plt\n",
    "from sklearn.neighbors import KNeighborsClassifier\n",
    "import numpy as np\n",
    "import os\n"
   ]
  },
  {
   "cell_type": "markdown",
   "metadata": {},
   "source": [
    "# Read the CSV and Perform Basic Data Cleaning"
   ]
  },
  {
   "cell_type": "code",
   "execution_count": 3,
   "metadata": {},
   "outputs": [],
   "source": [
    "df = pd.read_csv(\"exoplanet_data.csv\")\n",
    "# Dropping the null columns where all values are null\n",
    "df = df.dropna(axis='columns', how='all')\n",
    "# Dropping the null rows\n",
    "df = df.dropna()\n",
    "df.head()\n",
    "#Getting rid of space on FALSE_POSITIVES\n",
    "df.replace(to_replace =\"FALSE POSITIVE\", \n",
    "                 value =\"FALSE_POSITIVE\",\n",
    "          inplace=True) \n"
   ]
  },
  {
   "cell_type": "markdown",
   "metadata": {},
   "source": [
    "# Select your features (columns)"
   ]
  },
  {
   "cell_type": "code",
   "execution_count": 26,
   "metadata": {},
   "outputs": [
    {
     "name": "stdout",
     "output_type": "stream",
     "text": [
      "(6991, 40) (6991,)\n"
     ]
    }
   ],
   "source": [
    "# Setting features that will also be used as my x values.\n",
    "# Instead of selecting 40 columns I dropped the koi_disposition column since its being used for the Y. \n",
    "X = df.drop(columns = ['koi_disposition'])\n",
    "Y= df[\"koi_disposition\"]\n",
    "\n",
    "print(X.shape, Y.shape)"
   ]
  },
  {
   "cell_type": "markdown",
   "metadata": {},
   "source": [
    "# Create a Train Test Split\n",
    "\n",
    "Use `koi_disposition` for the y values"
   ]
  },
  {
   "cell_type": "code",
   "execution_count": 27,
   "metadata": {},
   "outputs": [],
   "source": [
    "#Creating a train test split\n",
    "from sklearn.model_selection import train_test_split\n",
    "\n",
    "X = pd.get_dummies(X)\n",
    "X_train, X_test, Y_train, Y_test = train_test_split(X, Y, random_state= 40)"
   ]
  },
  {
   "cell_type": "code",
   "execution_count": 30,
   "metadata": {},
   "outputs": [
    {
     "data": {
      "text/html": [
       "<div>\n",
       "<style scoped>\n",
       "    .dataframe tbody tr th:only-of-type {\n",
       "        vertical-align: middle;\n",
       "    }\n",
       "\n",
       "    .dataframe tbody tr th {\n",
       "        vertical-align: top;\n",
       "    }\n",
       "\n",
       "    .dataframe thead th {\n",
       "        text-align: right;\n",
       "    }\n",
       "</style>\n",
       "<table border=\"1\" class=\"dataframe\">\n",
       "  <thead>\n",
       "    <tr style=\"text-align: right;\">\n",
       "      <th></th>\n",
       "      <th>koi_fpflag_nt</th>\n",
       "      <th>koi_fpflag_ss</th>\n",
       "      <th>koi_fpflag_co</th>\n",
       "      <th>koi_fpflag_ec</th>\n",
       "      <th>koi_period</th>\n",
       "      <th>koi_period_err1</th>\n",
       "      <th>koi_period_err2</th>\n",
       "      <th>koi_time0bk</th>\n",
       "      <th>koi_time0bk_err1</th>\n",
       "      <th>koi_time0bk_err2</th>\n",
       "      <th>...</th>\n",
       "      <th>koi_steff_err2</th>\n",
       "      <th>koi_slogg</th>\n",
       "      <th>koi_slogg_err1</th>\n",
       "      <th>koi_slogg_err2</th>\n",
       "      <th>koi_srad</th>\n",
       "      <th>koi_srad_err1</th>\n",
       "      <th>koi_srad_err2</th>\n",
       "      <th>ra</th>\n",
       "      <th>dec</th>\n",
       "      <th>koi_kepmag</th>\n",
       "    </tr>\n",
       "  </thead>\n",
       "  <tbody>\n",
       "    <tr>\n",
       "      <th>3866</th>\n",
       "      <td>0</td>\n",
       "      <td>1</td>\n",
       "      <td>0</td>\n",
       "      <td>0</td>\n",
       "      <td>6.714248</td>\n",
       "      <td>0.000008</td>\n",
       "      <td>-0.000008</td>\n",
       "      <td>134.31703</td>\n",
       "      <td>0.00137</td>\n",
       "      <td>-0.00137</td>\n",
       "      <td>...</td>\n",
       "      <td>-179</td>\n",
       "      <td>4.508</td>\n",
       "      <td>0.102</td>\n",
       "      <td>-0.085</td>\n",
       "      <td>0.800</td>\n",
       "      <td>0.096</td>\n",
       "      <td>-0.096</td>\n",
       "      <td>299.08057</td>\n",
       "      <td>44.295010</td>\n",
       "      <td>17.376</td>\n",
       "    </tr>\n",
       "    <tr>\n",
       "      <th>2059</th>\n",
       "      <td>0</td>\n",
       "      <td>0</td>\n",
       "      <td>0</td>\n",
       "      <td>0</td>\n",
       "      <td>2.118894</td>\n",
       "      <td>0.000008</td>\n",
       "      <td>-0.000008</td>\n",
       "      <td>132.80420</td>\n",
       "      <td>0.00290</td>\n",
       "      <td>-0.00290</td>\n",
       "      <td>...</td>\n",
       "      <td>-182</td>\n",
       "      <td>4.583</td>\n",
       "      <td>0.038</td>\n",
       "      <td>-0.152</td>\n",
       "      <td>0.796</td>\n",
       "      <td>0.176</td>\n",
       "      <td>-0.075</td>\n",
       "      <td>288.21072</td>\n",
       "      <td>42.556808</td>\n",
       "      <td>15.855</td>\n",
       "    </tr>\n",
       "    <tr>\n",
       "      <th>3086</th>\n",
       "      <td>0</td>\n",
       "      <td>1</td>\n",
       "      <td>1</td>\n",
       "      <td>1</td>\n",
       "      <td>0.512583</td>\n",
       "      <td>0.000003</td>\n",
       "      <td>-0.000003</td>\n",
       "      <td>131.77571</td>\n",
       "      <td>0.00456</td>\n",
       "      <td>-0.00456</td>\n",
       "      <td>...</td>\n",
       "      <td>-232</td>\n",
       "      <td>4.471</td>\n",
       "      <td>0.056</td>\n",
       "      <td>-0.224</td>\n",
       "      <td>0.999</td>\n",
       "      <td>0.333</td>\n",
       "      <td>-0.111</td>\n",
       "      <td>295.46341</td>\n",
       "      <td>46.011230</td>\n",
       "      <td>15.484</td>\n",
       "    </tr>\n",
       "    <tr>\n",
       "      <th>6901</th>\n",
       "      <td>0</td>\n",
       "      <td>0</td>\n",
       "      <td>0</td>\n",
       "      <td>1</td>\n",
       "      <td>1.332544</td>\n",
       "      <td>0.000012</td>\n",
       "      <td>-0.000012</td>\n",
       "      <td>132.06788</td>\n",
       "      <td>0.00841</td>\n",
       "      <td>-0.00841</td>\n",
       "      <td>...</td>\n",
       "      <td>-191</td>\n",
       "      <td>4.543</td>\n",
       "      <td>0.099</td>\n",
       "      <td>-0.081</td>\n",
       "      <td>0.734</td>\n",
       "      <td>0.100</td>\n",
       "      <td>-0.082</td>\n",
       "      <td>294.94775</td>\n",
       "      <td>46.671951</td>\n",
       "      <td>15.840</td>\n",
       "    </tr>\n",
       "    <tr>\n",
       "      <th>5580</th>\n",
       "      <td>0</td>\n",
       "      <td>1</td>\n",
       "      <td>0</td>\n",
       "      <td>0</td>\n",
       "      <td>52.884577</td>\n",
       "      <td>0.001744</td>\n",
       "      <td>-0.001744</td>\n",
       "      <td>147.01058</td>\n",
       "      <td>0.00373</td>\n",
       "      <td>-0.00373</td>\n",
       "      <td>...</td>\n",
       "      <td>-233</td>\n",
       "      <td>4.420</td>\n",
       "      <td>0.067</td>\n",
       "      <td>-0.202</td>\n",
       "      <td>1.078</td>\n",
       "      <td>0.333</td>\n",
       "      <td>-0.133</td>\n",
       "      <td>290.40158</td>\n",
       "      <td>37.942009</td>\n",
       "      <td>15.694</td>\n",
       "    </tr>\n",
       "  </tbody>\n",
       "</table>\n",
       "<p>5 rows × 40 columns</p>\n",
       "</div>"
      ],
      "text/plain": [
       "      koi_fpflag_nt  koi_fpflag_ss  koi_fpflag_co  koi_fpflag_ec  koi_period  \\\n",
       "3866              0              1              0              0    6.714248   \n",
       "2059              0              0              0              0    2.118894   \n",
       "3086              0              1              1              1    0.512583   \n",
       "6901              0              0              0              1    1.332544   \n",
       "5580              0              1              0              0   52.884577   \n",
       "\n",
       "      koi_period_err1  koi_period_err2  koi_time0bk  koi_time0bk_err1  \\\n",
       "3866         0.000008        -0.000008    134.31703           0.00137   \n",
       "2059         0.000008        -0.000008    132.80420           0.00290   \n",
       "3086         0.000003        -0.000003    131.77571           0.00456   \n",
       "6901         0.000012        -0.000012    132.06788           0.00841   \n",
       "5580         0.001744        -0.001744    147.01058           0.00373   \n",
       "\n",
       "      koi_time0bk_err2  ...  koi_steff_err2  koi_slogg  koi_slogg_err1  \\\n",
       "3866          -0.00137  ...            -179      4.508           0.102   \n",
       "2059          -0.00290  ...            -182      4.583           0.038   \n",
       "3086          -0.00456  ...            -232      4.471           0.056   \n",
       "6901          -0.00841  ...            -191      4.543           0.099   \n",
       "5580          -0.00373  ...            -233      4.420           0.067   \n",
       "\n",
       "      koi_slogg_err2  koi_srad  koi_srad_err1  koi_srad_err2         ra  \\\n",
       "3866          -0.085     0.800          0.096         -0.096  299.08057   \n",
       "2059          -0.152     0.796          0.176         -0.075  288.21072   \n",
       "3086          -0.224     0.999          0.333         -0.111  295.46341   \n",
       "6901          -0.081     0.734          0.100         -0.082  294.94775   \n",
       "5580          -0.202     1.078          0.333         -0.133  290.40158   \n",
       "\n",
       "            dec  koi_kepmag  \n",
       "3866  44.295010      17.376  \n",
       "2059  42.556808      15.855  \n",
       "3086  46.011230      15.484  \n",
       "6901  46.671951      15.840  \n",
       "5580  37.942009      15.694  \n",
       "\n",
       "[5 rows x 40 columns]"
      ]
     },
     "execution_count": 30,
     "metadata": {},
     "output_type": "execute_result"
    }
   ],
   "source": [
    "X_train.head()\n"
   ]
  },
  {
   "cell_type": "markdown",
   "metadata": {},
   "source": [
    "# Pre-processing\n",
    "\n",
    "Scale the data using the MinMaxScaler and perform some feature selection"
   ]
  },
  {
   "cell_type": "code",
   "execution_count": 41,
   "metadata": {},
   "outputs": [
    {
     "name": "stdout",
     "output_type": "stream",
     "text": [
      "(6991, 40) (6991,)\n"
     ]
    }
   ],
   "source": [
    "# Scaling the data/ Preprocessing data set prior to fitting\n",
    "from sklearn.preprocessing import MinMaxScaler, LabelEncoder\n",
    "from tensorflow.keras.utils import to_categorical\n",
    "\n",
    "X_scaler = MinMaxScaler().fit(X_train)\n",
    "X_train_scaled = X_scaler.transform(X_train)\n",
    "X_test_scaled = X_scaler.transform(X_test)\n",
    "\n",
    "print(X.shape, Y.shape)"
   ]
  },
  {
   "cell_type": "code",
   "execution_count": 70,
   "metadata": {},
   "outputs": [],
   "source": [
    "# Label encoding the responses (y)\n",
    "label_encoder = LabelEncoder()\n",
    "label_encoder.fit(Y_train)\n",
    "\n",
    "encoded_y_train = label_encoder.transform(Y_train)\n",
    "encoded_y_test = label_encoder.transform(Y_test)"
   ]
  },
  {
   "cell_type": "code",
   "execution_count": 73,
   "metadata": {},
   "outputs": [
    {
     "data": {
      "text/plain": [
       "(5243, 3)"
      ]
     },
     "execution_count": 73,
     "metadata": {},
     "output_type": "execute_result"
    }
   ],
   "source": [
    "# Converting encoded labels to one hot encoding\n",
    "y_train_categorical = to_categorical(encoded_y_train)\n",
    "y_test_categorical = to_categorical(encoded_y_test)"
   ]
  },
  {
   "cell_type": "code",
   "execution_count": null,
   "metadata": {},
   "outputs": [],
   "source": []
  },
  {
   "cell_type": "code",
   "execution_count": 48,
   "metadata": {},
   "outputs": [],
   "source": []
  },
  {
   "cell_type": "code",
   "execution_count": null,
   "metadata": {},
   "outputs": [],
   "source": []
  },
  {
   "cell_type": "code",
   "execution_count": null,
   "metadata": {},
   "outputs": [],
   "source": [
    "\n"
   ]
  },
  {
   "cell_type": "markdown",
   "metadata": {},
   "source": [
    "# Train the Model\n",
    "\n"
   ]
  },
  {
   "cell_type": "code",
   "execution_count": 79,
   "metadata": {},
   "outputs": [
    {
     "name": "stdout",
     "output_type": "stream",
     "text": [
      "k: 1, Train/Test Score: 1.000/0.803\n",
      "k: 3, Train/Test Score: 0.892/0.812\n",
      "k: 5, Train/Test Score: 0.868/0.829\n",
      "k: 7, Train/Test Score: 0.863/0.827\n",
      "k: 9, Train/Test Score: 0.854/0.828\n",
      "k: 11, Train/Test Score: 0.850/0.826\n",
      "k: 13, Train/Test Score: 0.846/0.831\n",
      "k: 15, Train/Test Score: 0.842/0.831\n",
      "k: 17, Train/Test Score: 0.839/0.831\n",
      "k: 19, Train/Test Score: 0.836/0.830\n"
     ]
    },
    {
     "data": {
      "image/png": "[encoded data removed]",
      "text/plain": [
       "<Figure size 432x288 with 1 Axes>"
      ]
     },
     "metadata": {
      "needs_background": "light"
     },
     "output_type": "display_data"
    }
   ],
   "source": [
    "# Loop through different k values to see which has the highest accuracy\n",
    "# Note: We only use odd numbers because we don't want any ties\n",
    "train_scores = []\n",
    "test_scores = []\n",
    "for k in range(1, 20, 2):\n",
    "    knn = KNeighborsClassifier(n_neighbors=k)\n",
    "    knn.fit(X_train_scaled, y_train_categorical)\n",
    "    train_score = knn.score(X_train_scaled,y_train_categorical)\n",
    "    test_score = knn.score(X_test_scaled, y_test_categorical)\n",
    "    train_scores.append(train_score)\n",
    "    test_scores.append(test_score)\n",
    "    print(f\"k: {k}, Train/Test Score: {train_score:.3f}/{test_score:.3f}\")\n",
    "    \n",
    "    \n",
    "plt.plot(range(1, 20, 2), train_scores, marker='o')\n",
    "plt.plot(range(1, 20, 2), test_scores, marker=\"x\")\n",
    "plt.xlabel(\"k neighbors\")\n",
    "plt.ylabel(\"Testing accuracy Score\")\n",
    "plt.show()\n"
   ]
  },
  {
   "cell_type": "code",
   "execution_count": 81,
   "metadata": {},
   "outputs": [
    {
     "name": "stdout",
     "output_type": "stream",
     "text": [
      "k=19 Test Acc: 0.831\n"
     ]
    }
   ],
   "source": [
    "# Note that k: 13 seems to be the best choice for this dataset\n",
    "knn = KNeighborsClassifier(n_neighbors=13)\n",
    "knn.fit(X_train_scaled, y_train_categorical)\n",
    "print('k=19 Test Acc: %.3f' % knn.score(X_test_scaled, y_test_categorical))"
   ]
  },
  {
   "cell_type": "markdown",
   "metadata": {},
   "source": [
    "# Hyperparameter Tuning\n",
    "\n",
    "Use `GridSearchCV` to tune the model's parameters"
   ]
  },
  {
   "cell_type": "code",
   "execution_count": 96,
   "metadata": {},
   "outputs": [],
   "source": [
    "# Create the GridSearchCV model\n",
    "# Create the GridSearch estimator along with a parameter object containing the values to adjust\n",
    "from sklearn.model_selection import GridSearchCV\n",
    "param_grid = {'bootstrap': [True], 'n_estimators' : [ 50,100,150, 200]\n",
    "              }\n",
    "grid = GridSearchCV(clf, param_grid, verbose=3)"
   ]
  },
  {
   "cell_type": "code",
   "execution_count": 97,
   "metadata": {},
   "outputs": [
    {
     "data": {
      "text/plain": [
       "dict_keys(['bootstrap', 'ccp_alpha', 'class_weight', 'criterion', 'max_depth', 'max_features', 'max_leaf_nodes', 'max_samples', 'min_impurity_decrease', 'min_impurity_split', 'min_samples_leaf', 'min_samples_split', 'min_weight_fraction_leaf', 'n_estimators', 'n_jobs', 'oob_score', 'random_state', 'verbose', 'warm_start'])"
      ]
     },
     "execution_count": 97,
     "metadata": {},
     "output_type": "execute_result"
    }
   ],
   "source": [
    "# To get list of parameters you can tune\n",
    "clf.get_params().keys()"
   ]
  },
  {
   "cell_type": "code",
   "execution_count": 98,
   "metadata": {},
   "outputs": [
    {
     "name": "stdout",
     "output_type": "stream",
     "text": [
      "Fitting 5 folds for each of 4 candidates, totalling 20 fits\n",
      "[CV] bootstrap=True, n_estimators=50 .................................\n"
     ]
    },
    {
     "name": "stderr",
     "output_type": "stream",
     "text": [
      "[Parallel(n_jobs=1)]: Using backend SequentialBackend with 1 concurrent workers.\n"
     ]
    },
    {
     "name": "stdout",
     "output_type": "stream",
     "text": [
      "[CV] ..... bootstrap=True, n_estimators=50, score=0.883, total=   0.8s\n",
      "[CV] bootstrap=True, n_estimators=50 .................................\n"
     ]
    },
    {
     "name": "stderr",
     "output_type": "stream",
     "text": [
      "[Parallel(n_jobs=1)]: Done   1 out of   1 | elapsed:    0.8s remaining:    0.0s\n"
     ]
    },
    {
     "name": "stdout",
     "output_type": "stream",
     "text": [
      "[CV] ..... bootstrap=True, n_estimators=50, score=0.874, total=   0.7s\n",
      "[CV] bootstrap=True, n_estimators=50 .................................\n"
     ]
    },
    {
     "name": "stderr",
     "output_type": "stream",
     "text": [
      "[Parallel(n_jobs=1)]: Done   2 out of   2 | elapsed:    1.5s remaining:    0.0s\n"
     ]
    },
    {
     "name": "stdout",
     "output_type": "stream",
     "text": [
      "[CV] ..... bootstrap=True, n_estimators=50, score=0.855, total=   0.7s\n",
      "[CV] bootstrap=True, n_estimators=50 .................................\n",
      "[CV] ..... bootstrap=True, n_estimators=50, score=0.889, total=   0.7s\n",
      "[CV] bootstrap=True, n_estimators=50 .................................\n",
      "[CV] ..... bootstrap=True, n_estimators=50, score=0.889, total=   0.7s\n",
      "[CV] bootstrap=True, n_estimators=100 ................................\n",
      "[CV] .... bootstrap=True, n_estimators=100, score=0.882, total=   1.4s\n",
      "[CV] bootstrap=True, n_estimators=100 ................................\n",
      "[CV] .... bootstrap=True, n_estimators=100, score=0.866, total=   1.6s\n",
      "[CV] bootstrap=True, n_estimators=100 ................................\n",
      "[CV] .... bootstrap=True, n_estimators=100, score=0.859, total=   1.5s\n",
      "[CV] bootstrap=True, n_estimators=100 ................................\n",
      "[CV] .... bootstrap=True, n_estimators=100, score=0.882, total=   1.5s\n",
      "[CV] bootstrap=True, n_estimators=100 ................................\n",
      "[CV] .... bootstrap=True, n_estimators=100, score=0.875, total=   1.4s\n",
      "[CV] bootstrap=True, n_estimators=150 ................................\n",
      "[CV] .... bootstrap=True, n_estimators=150, score=0.877, total=   2.2s\n",
      "[CV] bootstrap=True, n_estimators=150 ................................\n",
      "[CV] .... bootstrap=True, n_estimators=150, score=0.871, total=   2.1s\n",
      "[CV] bootstrap=True, n_estimators=150 ................................\n",
      "[CV] .... bootstrap=True, n_estimators=150, score=0.859, total=   2.2s\n",
      "[CV] bootstrap=True, n_estimators=150 ................................\n",
      "[CV] .... bootstrap=True, n_estimators=150, score=0.886, total=   2.2s\n",
      "[CV] bootstrap=True, n_estimators=150 ................................\n",
      "[CV] .... bootstrap=True, n_estimators=150, score=0.885, total=   2.2s\n",
      "[CV] bootstrap=True, n_estimators=200 ................................\n",
      "[CV] .... bootstrap=True, n_estimators=200, score=0.884, total=   2.9s\n",
      "[CV] bootstrap=True, n_estimators=200 ................................\n",
      "[CV] .... bootstrap=True, n_estimators=200, score=0.867, total=   3.1s\n",
      "[CV] bootstrap=True, n_estimators=200 ................................\n",
      "[CV] .... bootstrap=True, n_estimators=200, score=0.858, total=   3.0s\n",
      "[CV] bootstrap=True, n_estimators=200 ................................\n",
      "[CV] .... bootstrap=True, n_estimators=200, score=0.886, total=   2.9s\n",
      "[CV] bootstrap=True, n_estimators=200 ................................\n",
      "[CV] .... bootstrap=True, n_estimators=200, score=0.882, total=   3.3s\n"
     ]
    },
    {
     "name": "stderr",
     "output_type": "stream",
     "text": [
      "[Parallel(n_jobs=1)]: Done  20 out of  20 | elapsed:   37.2s finished\n"
     ]
    },
    {
     "data": {
      "text/plain": [
       "GridSearchCV(cv=None, error_score=nan,\n",
       "             estimator=RandomForestClassifier(bootstrap=True, ccp_alpha=0.0,\n",
       "                                              class_weight=None,\n",
       "                                              criterion='gini', max_depth=40,\n",
       "                                              max_features='auto',\n",
       "                                              max_leaf_nodes=None,\n",
       "                                              max_samples=None,\n",
       "                                              min_impurity_decrease=0.0,\n",
       "                                              min_impurity_split=None,\n",
       "                                              min_samples_leaf=1,\n",
       "                                              min_samples_split=8,\n",
       "                                              min_weight_fraction_leaf=0.0,\n",
       "                                              n_estimators=200, n_jobs=None,\n",
       "                                              oob_score=False,\n",
       "                                              random_state=None, verbose=0,\n",
       "                                              warm_start=False),\n",
       "             iid='deprecated', n_jobs=None,\n",
       "             param_grid={'bootstrap': [True],\n",
       "                         'n_estimators': [50, 100, 150, 200]},\n",
       "             pre_dispatch='2*n_jobs', refit=True, return_train_score=False,\n",
       "             scoring=None, verbose=3)"
      ]
     },
     "execution_count": 98,
     "metadata": {},
     "output_type": "execute_result"
    }
   ],
   "source": [
    "# Train the model with GridSearch\n",
    "grid.fit(X_train_scaled, y_train_categorical)\n"
   ]
  },
  {
   "cell_type": "code",
   "execution_count": 100,
   "metadata": {},
   "outputs": [
    {
     "name": "stdout",
     "output_type": "stream",
     "text": [
      "{'bootstrap': True, 'n_estimators': 50}\n",
      "0.8781274787329263\n"
     ]
    }
   ],
   "source": [
    "print(grid.best_params_)\n",
    "print(grid.best_score_)"
   ]
  },
  {
   "cell_type": "markdown",
   "metadata": {},
   "source": [
    "# Save the Model"
   ]
  },
  {
   "cell_type": "code",
   "execution_count": 103,
   "metadata": {},
   "outputs": [
    {
     "data": {
      "text/plain": [
       "['model_1.sav']"
      ]
     },
     "execution_count": 103,
     "metadata": {},
     "output_type": "execute_result"
    }
   ],
   "source": [
    "# saving model by updating filename\n",
    "# andding my clf model with  model variable\n",
    "# turning this in to BCS\n",
    "import joblib\n",
    "filename = 'model_1.sav'\n",
    "joblib.dump(clf, filename)"
   ]
  },
  {
   "cell_type": "code",
   "execution_count": null,
   "metadata": {},
   "outputs": [],
   "source": []
  }
 ],
 "metadata": {
  "kernel_info": {
   "name": "dev"
  },
  "kernelspec": {
   "display_name": "Python 3",
   "language": "python",
   "name": "python3"
  },
  "language_info": {
   "codemirror_mode": {
    "name": "ipython",
    "version": 3
   },
   "file_extension": ".py",
   "mimetype": "text/x-python",
   "name": "python",
   "nbconvert_exporter": "python",
   "pygments_lexer": "ipython3",
   "version": "3.7.6"
  },
  "nteract": {
   "version": "0.12.3"
  }
 },
 "nbformat": 4,
 "nbformat_minor": 2
}
